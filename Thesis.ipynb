{
  "nbformat": 4,
  "nbformat_minor": 0,
  "metadata": {
    "colab": {
      "provenance": [],
      "authorship_tag": "ABX9TyNeQno5GpofBSe1Vk8uNqTJ",
      "include_colab_link": true
    },
    "kernelspec": {
      "name": "python3",
      "display_name": "Python 3"
    },
    "language_info": {
      "name": "python"
    }
  },
  "cells": [
    {
      "cell_type": "markdown",
      "metadata": {
        "id": "view-in-github",
        "colab_type": "text"
      },
      "source": [
        "<a href=\"https://colab.research.google.com/github/BasselKhalid/Thesis/blob/main/Thesis.ipynb\" target=\"_parent\"><img src=\"https://colab.research.google.com/assets/colab-badge.svg\" alt=\"Open In Colab\"/></a>"
      ]
    },
    {
      "cell_type": "markdown",
      "source": [
        "Importing Libraries & Dataset"
      ],
      "metadata": {
        "id": "rK0XJ2piqqNR"
      }
    },
    {
      "cell_type": "code",
      "source": [],
      "metadata": {
        "id": "2xZB3wUUqqfH"
      },
      "execution_count": null,
      "outputs": []
    },
    {
      "cell_type": "markdown",
      "source": [],
      "metadata": {
        "id": "B4KMmx_Zqq6o"
      }
    },
    {
      "cell_type": "code",
      "source": [],
      "metadata": {
        "id": "NlVst3BlqrNe"
      },
      "execution_count": null,
      "outputs": []
    },
    {
      "cell_type": "markdown",
      "source": [],
      "metadata": {
        "id": "aEl5LPGQqrhb"
      }
    },
    {
      "cell_type": "code",
      "source": [],
      "metadata": {
        "id": "pFePZu7HqrsX"
      },
      "execution_count": null,
      "outputs": []
    },
    {
      "cell_type": "markdown",
      "source": [],
      "metadata": {
        "id": "guQdd9JAqr6Z"
      }
    },
    {
      "cell_type": "code",
      "source": [],
      "metadata": {
        "id": "xF_1H2JRqsBP"
      },
      "execution_count": null,
      "outputs": []
    },
    {
      "cell_type": "markdown",
      "source": [],
      "metadata": {
        "id": "uzHCt8BoqsQI"
      }
    },
    {
      "cell_type": "code",
      "source": [],
      "metadata": {
        "id": "-0xrkagSqsY-"
      },
      "execution_count": null,
      "outputs": []
    }
  ]
}